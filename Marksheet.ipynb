{
 "cells": [
  {
   "cell_type": "code",
   "execution_count": 2,
   "metadata": {},
   "outputs": [
    {
     "name": "stdout",
     "output_type": "stream",
     "text": [
      "Enter Your NameSaad\n",
      "English Marks100\n",
      "Urdu Marks89\n",
      "Math Marks98\n",
      "Islamiyat Marks75\n",
      "Physics Marks89\n",
      "Chemistry Marks90\n",
      "Total Marks600\n",
      "A+\n"
     ]
    }
   ],
   "source": [
    "import csv\n",
    "userName = input(\"Enter Your Name\")\n",
    "englishMarks = float(input(\"English Marks\"))\n",
    "urduMarks = float(input(\"Urdu Marks\"))\n",
    "mathMarks = float(input(\"Math Marks\"))\n",
    "islamiyatMarks = float(input(\"Islamiyat Marks\"))\n",
    "physicsMarks = float(input(\"Physics Marks\"))\n",
    "chemistryMarks = float(input(\"Chemistry Marks\"))\n",
    "totalMarks = float(input(\"Total Marks\"))\n",
    "obtainMarks = englishMarks + urduMarks + mathMarks + islamiyatMarks + physicsMarks + chemistryMarks\n",
    "userGrade = ''\n",
    "\n",
    "totalPercentage = float(obtainMarks / totalMarks * 100)\n",
    "\n",
    "if(totalPercentage>=80):\n",
    "    userGrade='A+'\n",
    "elif(totalPercentage>=70 and totalPercentage<80):\n",
    "    userGrade='A'\n",
    "elif(totalPercentage>=60 and totalPercentage<70):\n",
    "    userGrade='B'\n",
    "elif(totalPercentage>=50 and totalPercentage<60):\n",
    "    userGrade='D'\n",
    "elif(totalPercentage>=40 and totalPercentage<50):\n",
    "    userGrade='E'\n",
    "else:\n",
    "    userGrade='F'\n",
    "print(userGrade)"
   ]
  },
  {
   "cell_type": "code",
   "execution_count": null,
   "metadata": {},
   "outputs": [],
   "source": []
  }
 ],
 "metadata": {
  "kernelspec": {
   "display_name": "Python 3",
   "language": "python",
   "name": "python3"
  },
  "language_info": {
   "codemirror_mode": {
    "name": "ipython",
    "version": 3
   },
   "file_extension": ".py",
   "mimetype": "text/x-python",
   "name": "python",
   "nbconvert_exporter": "python",
   "pygments_lexer": "ipython3",
   "version": "3.7.3"
  }
 },
 "nbformat": 4,
 "nbformat_minor": 2
}
